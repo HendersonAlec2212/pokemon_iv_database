{
 "cells": [
  {
   "cell_type": "code",
   "execution_count": 5,
   "id": "3392af89",
   "metadata": {},
   "outputs": [
    {
     "data": {
      "text/plain": [
       "'C:\\\\Users\\\\Alec\\\\Documents\\\\Programming_Resources\\\\Boot_Camp\\\\personal_projects'"
      ]
     },
     "execution_count": 5,
     "metadata": {},
     "output_type": "execute_result"
    }
   ],
   "source": [
    "import os\n",
    "os.getcwd()"
   ]
  },
  {
   "cell_type": "code",
   "execution_count": 10,
   "id": "785c736a",
   "metadata": {},
   "outputs": [],
   "source": [
    "#Run once when starting new pokemon data\n",
    "import json\n",
    "pokemon_db = {}\n",
    "def take_input():\n",
    "    new_iv_dict = {}\n",
    "    old_iv_dict = {}\n",
    "    stats = ['HP', 'ATK','DEF','SPATK','SPDEF','SPEED']\n",
    "    pokemon = input(\"What's the name of the Pokemon? \").lower()\n",
    "    for stat in stats:\n",
    "        value = True\n",
    "        while value == True:\n",
    "            try:\n",
    "                old_iv = input(f\"what is the '{stat}' number? \")\n",
    "                old_iv_dict[stat] = int(old_iv)\n",
    "                new_iv = (int(old_iv)*2)+1\n",
    "                new_iv_dict[stat] = new_iv\n",
    "                value = False\n",
    "            except ValueError:\n",
    "                print(f\"invalid entry: {old_iv}. Please enter integers only.\")\n",
    "    entry = {\n",
    "    \"pokemon\": pokemon,\n",
    "    \"old_stats\":old_iv_dict,\n",
    "    'new_stats': new_iv_dict\n",
    "    }\n",
    "    return pokemon, entry"
   ]
  },
  {
   "cell_type": "code",
   "execution_count": 11,
   "id": "4207bb7c",
   "metadata": {},
   "outputs": [
    {
     "name": "stdout",
     "output_type": "stream",
     "text": [
      "What's the name of the Pokemon? charizard\n",
      "what is the 'HP' number? 1\n",
      "what is the 'ATK' number? 2\n",
      "what is the 'DEF' number? 3\n",
      "what is the 'SPATK' number? 4\n",
      "what is the 'SPDEF' number? 5\n",
      "what is the 'SPEED' number? 6\n",
      "Finished? (y/n)  y\n"
     ]
    }
   ],
   "source": [
    "#create JSON file (first write only)\n",
    "finished = \"n\"\n",
    "\n",
    "while finished != \"y\":\n",
    "    name, results = take_input()\n",
    "    pokemon_db[name] = results\n",
    "    finished = input(\"Finished? (y/n)  \").lower()\n",
    "    # open as write to save new file named json_file\n",
    "with open('pokemon_iv_db.json', 'w') as json_file:\n",
    "    # dump variable pokemon_db into new json_file\n",
    "    json.dump(pokemon_db, json_file)"
   ]
  },
  {
   "cell_type": "markdown",
   "id": "6d6bb0ab",
   "metadata": {},
   "source": [
    "# Run following to save new information to JSON_db"
   ]
  },
  {
   "cell_type": "code",
   "execution_count": 12,
   "id": "58a89766",
   "metadata": {},
   "outputs": [
    {
     "name": "stdout",
     "output_type": "stream",
     "text": [
      "What's the name of the Pokemon? pikachu\n",
      "what is the 'HP' number? 6\n",
      "what is the 'ATK' number? 5\n",
      "what is the 'DEF' number? 4\n",
      "what is the 'SPATK' number? 3\n",
      "what is the 'SPDEF' number? 2\n",
      "what is the 'SPEED' number? 1\n",
      "Finished? (y/n)  y\n"
     ]
    }
   ],
   "source": [
    "#Append to JSON file\n",
    "finished = \"n\"\n",
    "\n",
    "while finished != \"y\":\n",
    "    name, results = take_input()\n",
    "    pokemon_db[name] = results\n",
    "    finished = input(\"Finished? (y/n)  \").lower()\n",
    "    \n",
    "with open('pokemon_iv_db.json', 'r+') as json_file:\n",
    "    data = json.load(json_file)\n",
    "    data.update(pokemon_db)\n",
    "    json_file.seek(0)\n",
    "    json.dump(data, json_file)"
   ]
  },
  {
   "cell_type": "code",
   "execution_count": 17,
   "id": "279bf73e",
   "metadata": {},
   "outputs": [
    {
     "data": {
      "text/plain": [
       "{'charizard': {'pokemon': 'charizard',\n",
       "  'old_stats': {'HP': 1,\n",
       "   'ATK': 2,\n",
       "   'DEF': 3,\n",
       "   'SPATK': 4,\n",
       "   'SPDEF': 5,\n",
       "   'SPEED': 6},\n",
       "  'new_stats': {'HP': 3,\n",
       "   'ATK': 5,\n",
       "   'DEF': 7,\n",
       "   'SPATK': 9,\n",
       "   'SPDEF': 11,\n",
       "   'SPEED': 13}},\n",
       " 'pikachu': {'pokemon': 'pikachu',\n",
       "  'old_stats': {'HP': 6,\n",
       "   'ATK': 5,\n",
       "   'DEF': 4,\n",
       "   'SPATK': 3,\n",
       "   'SPDEF': 2,\n",
       "   'SPEED': 1},\n",
       "  'new_stats': {'HP': 13,\n",
       "   'ATK': 11,\n",
       "   'DEF': 9,\n",
       "   'SPATK': 7,\n",
       "   'SPDEF': 5,\n",
       "   'SPEED': 3}}}"
      ]
     },
     "execution_count": 17,
     "metadata": {},
     "output_type": "execute_result"
    }
   ],
   "source": [
    "\n",
    "#Load JSON file into python dictionary\n",
    "with open('pokemon_iv_db.json') as f:\n",
    "  pokemon_db_read= json.load(f)\n",
    "pokemon_db_read"
   ]
  },
  {
   "cell_type": "code",
   "execution_count": 16,
   "id": "f620e499",
   "metadata": {},
   "outputs": [
    {
     "data": {
      "text/plain": [
       "{'charizard': {'pokemon': 'charizard',\n",
       "  'old_stats': {'HP': 1,\n",
       "   'ATK': 2,\n",
       "   'DEF': 3,\n",
       "   'SPATK': 4,\n",
       "   'SPDEF': 5,\n",
       "   'SPEED': 6},\n",
       "  'new_stats': {'HP': 3,\n",
       "   'ATK': 5,\n",
       "   'DEF': 7,\n",
       "   'SPATK': 9,\n",
       "   'SPDEF': 11,\n",
       "   'SPEED': 13}},\n",
       " 'pikachu': {'pokemon': 'pikachu',\n",
       "  'old_stats': {'HP': 6,\n",
       "   'ATK': 5,\n",
       "   'DEF': 4,\n",
       "   'SPATK': 3,\n",
       "   'SPDEF': 2,\n",
       "   'SPEED': 1},\n",
       "  'new_stats': {'HP': 13,\n",
       "   'ATK': 11,\n",
       "   'DEF': 9,\n",
       "   'SPATK': 7,\n",
       "   'SPDEF': 5,\n",
       "   'SPEED': 3}}}"
      ]
     },
     "execution_count": 16,
     "metadata": {},
     "output_type": "execute_result"
    }
   ],
   "source": [
    "pokemon_db_read"
   ]
  },
  {
   "cell_type": "markdown",
   "id": "13a4364b",
   "metadata": {},
   "source": [
    "### Notes: \n",
    "create functions to run a new ETL process on JSON_db.\n",
    "load the information > search for existing entries via key:name > return entries that match > write over values > save database.\n",
    "\n",
    "bonus: make a list of pokemon names, ask user if they meant {input correct spelling.lower()} then y/n if y name=suggestion\n"
   ]
  },
  {
   "cell_type": "code",
   "execution_count": null,
   "id": "dc2db073",
   "metadata": {},
   "outputs": [],
   "source": []
  }
 ],
 "metadata": {
  "kernelspec": {
   "display_name": "Python 3",
   "language": "python",
   "name": "python3"
  },
  "language_info": {
   "codemirror_mode": {
    "name": "ipython",
    "version": 3
   },
   "file_extension": ".py",
   "mimetype": "text/x-python",
   "name": "python",
   "nbconvert_exporter": "python",
   "pygments_lexer": "ipython3",
   "version": "3.8.8"
  }
 },
 "nbformat": 4,
 "nbformat_minor": 5
}
